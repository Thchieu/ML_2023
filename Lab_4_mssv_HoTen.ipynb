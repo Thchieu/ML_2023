{
  "nbformat": 4,
  "nbformat_minor": 0,
  "metadata": {
    "colab": {
      "provenance": [],
      "include_colab_link": true
    },
    "kernelspec": {
      "name": "python3",
      "display_name": "Python 3"
    },
    "language_info": {
      "name": "python"
    }
  },
  "cells": [
    {
      "cell_type": "markdown",
      "metadata": {
        "id": "view-in-github",
        "colab_type": "text"
      },
      "source": [
        "<a href=\"https://colab.research.google.com/github/Thchieu/ML_2023/blob/main/Lab_4_mssv_HoTen.ipynb\" target=\"_parent\"><img src=\"https://colab.research.google.com/assets/colab-badge.svg\" alt=\"Open In Colab\"/></a>"
      ]
    },
    {
      "cell_type": "markdown",
      "source": [
        "# This lab is to continous dealing with **Logistic Regression**, **kNN**, and **Decision Tree** alogirthms applied to classification tasks. \n",
        "\n",
        "*   **Deadline: 23:59, 12/03/2023**\n",
        "\n"
      ],
      "metadata": {
        "id": "LMzehe0sy5wr"
      }
    },
    {
      "cell_type": "markdown",
      "source": [
        "# Import libraries"
      ],
      "metadata": {
        "id": "H4nJmxp9zGX4"
      }
    },
    {
      "cell_type": "code",
      "execution_count": 16,
      "metadata": {
        "id": "DoVWQ8AEyc-C"
      },
      "outputs": [],
      "source": [
        "# code\n",
        "from sklearn.linear_model import LogisticRegression\n",
        "from sklearn.metrics import accuracy_score\n",
        "from sklearn.metrics import confusion_matrix \n",
        "from sklearn.model_selection import train_test_split\n",
        "from sklearn import datasets\n",
        "from sklearn.metrics._plot.confusion_matrix import ConfusionMatrixDisplay\n",
        "from sklearn.metrics import precision_score\n",
        "from sklearn.metrics import recall_score\n",
        "from sklearn.metrics import f1_score"
      ]
    },
    {
      "cell_type": "markdown",
      "source": [
        "#Task 1. \n",
        "Apply **LogisticRegression** to iris dataset which aims at classifying species of iris based on sepal_length (chiều dài đài hoa), sepal_width, petal_length (chiều dài cánh hoa), petal_width. The species are '**setosa**' '**versicolor**' and '**virginica**'. \n",
        "\n",
        "\n",
        "\n",
        "```\n",
        "from sklearn import datasets\n",
        "data4 = datasets.load_iris()\n",
        "```\n",
        "\n",
        "\n"
      ],
      "metadata": {
        "id": "kNv07ARGzOUm"
      }
    },
    {
      "cell_type": "code",
      "source": [
        "\n",
        "# code\n",
        "data4 = datasets.load_iris()\n",
        "x_train, x_test, y_train, y_test = train_test_split(data4.data, data4.target,test_size=0.3)\n",
        "\n",
        "classifier = LogisticRegression(random_state = 0)\n",
        "classifier.fit(x_train, y_train) \n",
        "\n",
        "y_pred = classifier.predict(x_test)\n",
        "\n",
        "print (\"Accuracy : \", accuracy_score(y_test, y_pred)) \n",
        "\n",
        "print (\"Confusion: \\n\", confusion_matrix(y_test, y_pred))\n",
        "\n",
        "print (\"Precision score: \", precision_score(y_test, y_pred, average=\"weighted\"))\n",
        "\n",
        "print (\"Recall score: \", recall_score(y_test, y_pred, average=\"weighted\"))\n",
        "\n",
        "print (\"F1 score: \", f1_score(y_test, y_pred, average=\"weighted\"))\n",
        "\n",
        "print (\"ConfusionMatrixDisplay:\", ConfusionMatrixDisplay.from_predictions(y_test, y_pred))"
      ],
      "metadata": {
        "id": "sOsg77IBzEyo",
        "colab": {
          "base_uri": "https://localhost:8080/",
          "height": 578
        },
        "outputId": "1fc92887-9add-4211-bde1-73747181c2a7"
      },
      "execution_count": 18,
      "outputs": [
        {
          "output_type": "stream",
          "name": "stderr",
          "text": [
            "/usr/local/lib/python3.9/dist-packages/sklearn/linear_model/_logistic.py:458: ConvergenceWarning: lbfgs failed to converge (status=1):\n",
            "STOP: TOTAL NO. of ITERATIONS REACHED LIMIT.\n",
            "\n",
            "Increase the number of iterations (max_iter) or scale the data as shown in:\n",
            "    https://scikit-learn.org/stable/modules/preprocessing.html\n",
            "Please also refer to the documentation for alternative solver options:\n",
            "    https://scikit-learn.org/stable/modules/linear_model.html#logistic-regression\n",
            "  n_iter_i = _check_optimize_result(\n"
          ]
        },
        {
          "output_type": "stream",
          "name": "stdout",
          "text": [
            "Accuracy :  0.9777777777777777\n",
            "Confusion: \n",
            " [[16  0  0]\n",
            " [ 0 13  1]\n",
            " [ 0  0 15]]\n",
            "Precision score:  0.9791666666666666\n",
            "Recall score:  0.9777777777777777\n",
            "F1 score:  0.977724678083101\n",
            "ConfusionMatrixDisplay: <sklearn.metrics._plot.confusion_matrix.ConfusionMatrixDisplay object at 0x7f0925e486d0>\n"
          ]
        },
        {
          "output_type": "display_data",
          "data": {
            "text/plain": [
              "<Figure size 432x288 with 2 Axes>"
            ],
            "image/png": "[encoded data removed]"
          },
          "metadata": {
            "needs_background": "light"
          }
        }
      ]
    },
    {
      "cell_type": "markdown",
      "source": [
        "#Task 2. \n",
        "Apply LogisticRegression to **MNIST** dataset (mnist.csv) which aims at classifying handwritten digits. Dataset includes 784 pixels values of images (28x28). \n",
        "\n",
        "\n",
        "```\n",
        "from sklearn import datasets\n",
        "# load the MNIST digits dataset\n",
        "mnist = datasets.load_digits()\n",
        "```\n",
        "\n"
      ],
      "metadata": {
        "id": "S43IoUT-0OQq"
      }
    },
    {
      "cell_type": "code",
      "source": [
        "from sklearn import datasets\n",
        "import pandas as pd\n",
        "from sklearn.metrics import accuracy_score \n",
        "from sklearn.linear_model import LogisticRegression\n",
        "from sklearn.model_selection import train_test_split"
      ],
      "metadata": {
        "id": "5XTHBWC11dtn"
      },
      "execution_count": 25,
      "outputs": []
    },
    {
      "cell_type": "code",
      "source": [
        "# code\n",
        "mnist = datasets.load_digits()\n",
        "print(\"Number of images: \", len(mnist.images))\n",
        "print(\"Number of labels: \", len(mnist.target))\n",
        "print(\"Classes: \", mnist.target_names)\n",
        "\n",
        "x_train, x_test, y_train, y_test = train_test_split(mnist.data, mnist.target, test_size=0.2, random_state=42)\n",
        "\n",
        "clf = LogisticRegression()\n",
        "\n",
        "clf.fit(x_train, y_train)\n",
        "\n",
        "accuracy = clf.score(x_test, y_test)\n",
        "print(f\"Accuracy: {accuracy}\")\n",
        "\n",
        "\n"
      ],
      "metadata": {
        "id": "_xhPpF5b033h",
        "colab": {
          "base_uri": "https://localhost:8080/"
        },
        "outputId": "92fed665-e6b3-46f3-c864-3a848b916f9c"
      },
      "execution_count": 38,
      "outputs": [
        {
          "output_type": "stream",
          "name": "stdout",
          "text": [
            "Number of images:  1797\n",
            "Number of labels:  1797\n",
            "Classes:  [0 1 2 3 4 5 6 7 8 9]\n",
            "Accuracy: 0.9694444444444444\n"
          ]
        },
        {
          "output_type": "stream",
          "name": "stderr",
          "text": [
            "/usr/local/lib/python3.9/dist-packages/sklearn/linear_model/_logistic.py:458: ConvergenceWarning: lbfgs failed to converge (status=1):\n",
            "STOP: TOTAL NO. of ITERATIONS REACHED LIMIT.\n",
            "\n",
            "Increase the number of iterations (max_iter) or scale the data as shown in:\n",
            "    https://scikit-learn.org/stable/modules/preprocessing.html\n",
            "Please also refer to the documentation for alternative solver options:\n",
            "    https://scikit-learn.org/stable/modules/linear_model.html#logistic-regression\n",
            "  n_iter_i = _check_optimize_result(\n"
          ]
        }
      ]
    },
    {
      "cell_type": "markdown",
      "source": [
        "#Task 3. \n",
        "Apply another classification algorithm named kNN, which is an instance classifcation model. \n",
        "*  3.1. Perform kNN algorithm to Iris dataset with k={1, 3, 5, …, 29}. Select the best value of k.\n",
        "\n",
        "*   3.2. Then compare the obtained results with those using Logistic regression (based on metrics: accuracy, precision, recall, f1 measure).\n"
      ],
      "metadata": {
        "id": "Rti2y0Wz2KY9"
      }
    },
    {
      "cell_type": "code",
      "source": [
        "import numpy as np\n",
        "import pandas as pd\n",
        "from sklearn.datasets import load_iris\n",
        "from sklearn.model_selection import train_test_split\n",
        "from sklearn.neighbors import KNeighborsClassifier\n",
        "from sklearn.linear_model import LogisticRegression\n",
        "from sklearn.metrics import accuracy_score, precision_score, recall_score, f1_score"
      ],
      "metadata": {
        "id": "Tal8tjOn3JIH"
      },
      "execution_count": 39,
      "outputs": []
    },
    {
      "cell_type": "code",
      "source": [
        "# code\n",
        "k_range = list(range(1, 30, 2))\n",
        "#k_range = np.array(1, 30, 2)\n",
        "data4 = datasets.load_iris()\n",
        "acls=[]\n",
        "precision=[]\n",
        "recall=[]\n",
        "f1=[]\n",
        "\n",
        "for k in k_range:\n",
        "  KNN= KNeighborsClassifier(n_neighbors=k)\n",
        "  KNN.fit(x_train, y_train)\n",
        "  y_pred =KNN.predict(x_test)\n",
        "  acls.append(y_pred)\n",
        "\n",
        "lr = LogisticRegression()\n",
        "lr.fit(x_train, y_train)\n",
        "y_pred = lr.predict(x_test)\n",
        "lr_accuracy = accuracy_score(y_test, y_pred)\n",
        "lr_precision = precision_score(y_test, y_pred, average=\"micro\")\n",
        "lr_recall = recall_score(y_test, y_pred, average=\"micro\")\n",
        "lr_f1 = f1_score(y_test, y_pred, average=\"micro\")\n",
        "print(\"kNN Metrics:\")\n",
        "for k, accuracy, precision, recall, f1 in knn_metrics:\n",
        "    print(f\"k = {k}: Accuracy = {accuracy:.2f}, Precision = {precision:.2f}, Recall = {recall:.2f}, F1 = {f1:.2f}\")\n",
        "print(f\"\\nLogistic Regression Metrics: Accuracy = {lr_accuracy:.2f}, Precision = {lr_precision:.2f}, Recall = {lr_recall:.2f}, F1 = {lr_f1:.2f}\")\n",
        "#  precision.append(precision_score(y_test,y_pred, np.average='micro'))\n"
      ],
      "metadata": {
        "id": "13LkkfpS2ZUR",
        "colab": {
          "base_uri": "https://localhost:8080/"
        },
        "outputId": "93fcd1e5-ede3-4f22-9026-966213ad5667"
      },
      "execution_count": 47,
      "outputs": [
        {
          "output_type": "stream",
          "name": "stdout",
          "text": [
            "kNN Metrics:\n",
            "k = 1: Accuracy = 0.98, Precision = 0.98, Recall = 0.98, F1 = 0.98\n",
            "k = 3: Accuracy = 0.98, Precision = 0.98, Recall = 0.98, F1 = 0.98\n",
            "k = 5: Accuracy = 0.99, Precision = 0.99, Recall = 0.99, F1 = 0.99\n",
            "k = 7: Accuracy = 0.99, Precision = 0.99, Recall = 0.99, F1 = 0.99\n",
            "k = 9: Accuracy = 0.98, Precision = 0.98, Recall = 0.98, F1 = 0.98\n",
            "k = 11: Accuracy = 0.98, Precision = 0.98, Recall = 0.98, F1 = 0.98\n",
            "k = 13: Accuracy = 0.98, Precision = 0.98, Recall = 0.98, F1 = 0.98\n",
            "k = 15: Accuracy = 0.98, Precision = 0.98, Recall = 0.98, F1 = 0.98\n",
            "k = 17: Accuracy = 0.98, Precision = 0.98, Recall = 0.98, F1 = 0.98\n",
            "k = 19: Accuracy = 0.97, Precision = 0.98, Recall = 0.97, F1 = 0.97\n",
            "k = 21: Accuracy = 0.97, Precision = 0.98, Recall = 0.97, F1 = 0.97\n",
            "k = 23: Accuracy = 0.98, Precision = 0.98, Recall = 0.98, F1 = 0.98\n",
            "k = 25: Accuracy = 0.98, Precision = 0.98, Recall = 0.98, F1 = 0.98\n",
            "k = 27: Accuracy = 0.98, Precision = 0.98, Recall = 0.98, F1 = 0.98\n",
            "k = 29: Accuracy = 0.97, Precision = 0.97, Recall = 0.97, F1 = 0.97\n",
            "\n",
            "Logistic Regression Metrics: Accuracy = 0.97, Precision = 0.97, Recall = 0.97, F1 = 0.97\n"
          ]
        },
        {
          "output_type": "stream",
          "name": "stderr",
          "text": [
            "/usr/local/lib/python3.9/dist-packages/sklearn/linear_model/_logistic.py:458: ConvergenceWarning: lbfgs failed to converge (status=1):\n",
            "STOP: TOTAL NO. of ITERATIONS REACHED LIMIT.\n",
            "\n",
            "Increase the number of iterations (max_iter) or scale the data as shown in:\n",
            "    https://scikit-learn.org/stable/modules/preprocessing.html\n",
            "Please also refer to the documentation for alternative solver options:\n",
            "    https://scikit-learn.org/stable/modules/linear_model.html#logistic-regression\n",
            "  n_iter_i = _check_optimize_result(\n"
          ]
        }
      ]
    },
    {
      "cell_type": "markdown",
      "source": [
        "#Task 4. \n",
        "Similar to Task 3, apply kNN algorithm to **mnist** dataset which included in datasets of sklearn API.\n",
        "*  4.1.\tPerform kNN algorithm to Iris dataset with k={1, 3, 5, …, 29}. Select the best value of k.\n",
        "*  4.2.\tThen compare the obtained results with those using Logistic regression (based on metrics: accuracy, precision, recall, f1 measure).\n"
      ],
      "metadata": {
        "id": "b52OPWPD2afi"
      }
    },
    {
      "cell_type": "code",
      "source": [
        "# code\n",
        "from sklearn.datasets import load_digits\n",
        "from sklearn.model_selection import train_test_split\n",
        "from sklearn.neighbors import KNeighborsClassifier\n",
        "from sklearn.linear_model import LogisticRegression\n",
        "from sklearn.metrics import accuracy_score, precision_score, recall_score, f1_score\n",
        "\n",
        "# Load the MNIST dataset\n",
        "digits = load_digits()\n",
        "\n",
        "# Split the data into training and testing sets\n",
        "X_train, X_test, y_train, y_test = train_test_split(digits.data, digits.target, test_size=0.2, random_state=42)\n",
        "\n",
        "# Perform kNN algorithm for k = 1, 3, 5, ..., 29\n",
        "k_values = list(range(1, 30, 2))\n",
        "knn_metrics = []\n",
        "for k in k_values:\n",
        "    # Train the kNN model with the given k value\n",
        "    knn = KNeighborsClassifier(n_neighbors=k)\n",
        "    knn.fit(X_train, y_train)\n",
        "\n",
        "    # Evaluate the model on the test set\n",
        "    y_pred = knn.predict(X_test)\n",
        "    accuracy = accuracy_score(y_test, y_pred)\n",
        "    precision = precision_score(y_test, y_pred, average=\"weighted\")\n",
        "    recall = recall_score(y_test, y_pred, average=\"weighted\")\n",
        "    f1 = f1_score(y_test, y_pred, average=\"weighted\")\n",
        "    knn_metrics.append((k, accuracy, precision, recall, f1))\n",
        "\n",
        "# Find the best value of k based on the highest f1 score\n",
        "best_k = max(knn_metrics, key=lambda x: x[4])[0]\n",
        "print(f\"Best value of k for kNN: {best_k}\\n\")\n",
        "\n",
        "# Train the Logistic Regression model\n",
        "lr = LogisticRegression()\n",
        "lr.fit(X_train, y_train)\n",
        "y_pred = lr.predict(X_test)\n",
        "lr_accuracy = accuracy_score(y_test, y_pred)\n",
        "lr_precision = precision_score(y_test, y_pred, average=\"weighted\")\n",
        "lr_recall = recall_score(y_test, y_pred, average=\"weighted\")\n",
        "lr_f1 = f1_score(y_test, y_pred, average=\"weighted\")\n",
        "\n",
        "# Print the results for both kNN and Logistic Regression\n",
        "print(\"kNN Metrics:\")\n",
        "for k, accuracy, precision, recall, f1 in knn_metrics:\n",
        "    print(f\"k = {k}: Accuracy = {accuracy:.2f}, Precision = {precision:.2f}, Recall = {recall:.2f}, F1 = {f1:.2f}\")\n",
        "print(f\"\\nLogistic Regression Metrics: Accuracy = {lr_accuracy:.2f}, Precision = {lr_precision:.2f}, Recall = {lr_recall:.2f}, F1 = {lr_f1:.2f}\")"
      ],
      "metadata": {
        "id": "Rw_-8FIf2KxW",
        "colab": {
          "base_uri": "https://localhost:8080/"
        },
        "outputId": "f4d23f82-7944-4c9b-9cb7-459500f732af"
      },
      "execution_count": 44,
      "outputs": [
        {
          "output_type": "stream",
          "name": "stdout",
          "text": [
            "Best value of k for kNN: 7\n",
            "\n",
            "kNN Metrics:\n",
            "k = 1: Accuracy = 0.98, Precision = 0.98, Recall = 0.98, F1 = 0.98\n",
            "k = 3: Accuracy = 0.98, Precision = 0.98, Recall = 0.98, F1 = 0.98\n",
            "k = 5: Accuracy = 0.99, Precision = 0.99, Recall = 0.99, F1 = 0.99\n",
            "k = 7: Accuracy = 0.99, Precision = 0.99, Recall = 0.99, F1 = 0.99\n",
            "k = 9: Accuracy = 0.98, Precision = 0.98, Recall = 0.98, F1 = 0.98\n",
            "k = 11: Accuracy = 0.98, Precision = 0.98, Recall = 0.98, F1 = 0.98\n",
            "k = 13: Accuracy = 0.98, Precision = 0.98, Recall = 0.98, F1 = 0.98\n",
            "k = 15: Accuracy = 0.98, Precision = 0.98, Recall = 0.98, F1 = 0.98\n",
            "k = 17: Accuracy = 0.98, Precision = 0.98, Recall = 0.98, F1 = 0.98\n",
            "k = 19: Accuracy = 0.97, Precision = 0.98, Recall = 0.97, F1 = 0.97\n",
            "k = 21: Accuracy = 0.97, Precision = 0.98, Recall = 0.97, F1 = 0.97\n",
            "k = 23: Accuracy = 0.98, Precision = 0.98, Recall = 0.98, F1 = 0.98\n",
            "k = 25: Accuracy = 0.98, Precision = 0.98, Recall = 0.98, F1 = 0.98\n",
            "k = 27: Accuracy = 0.98, Precision = 0.98, Recall = 0.98, F1 = 0.98\n",
            "k = 29: Accuracy = 0.97, Precision = 0.97, Recall = 0.97, F1 = 0.97\n",
            "\n",
            "Logistic Regression Metrics: Accuracy = 0.97, Precision = 0.97, Recall = 0.97, F1 = 0.97\n"
          ]
        },
        {
          "output_type": "stream",
          "name": "stderr",
          "text": [
            "/usr/local/lib/python3.9/dist-packages/sklearn/linear_model/_logistic.py:458: ConvergenceWarning: lbfgs failed to converge (status=1):\n",
            "STOP: TOTAL NO. of ITERATIONS REACHED LIMIT.\n",
            "\n",
            "Increase the number of iterations (max_iter) or scale the data as shown in:\n",
            "    https://scikit-learn.org/stable/modules/preprocessing.html\n",
            "Please also refer to the documentation for alternative solver options:\n",
            "    https://scikit-learn.org/stable/modules/linear_model.html#logistic-regression\n",
            "  n_iter_i = _check_optimize_result(\n"
          ]
        }
      ]
    },
    {
      "cell_type": "markdown",
      "source": [
        "#Task 5. \n",
        "Compare the performance of selected classification algorithms (**Decision Treen, kNN, and Logistic Regression**) to ***spam detection***. The dataset can be accessed from the link: http://archive.ics.uci.edu/ml/datasets/Spambase \n",
        "Attribute Information:\n",
        "The last column of 'spambase.csv denotes whether the e-mail was considered spam (1) or not (0), i.e. unsolicited commercial e-mail. Most of the attributes indicate whether a particular word or character was frequently occuring in the e-mail. The run-length attributes (55-57) measure the length of sequences of consecutive capital letters. For the statistical measures of each attribute, see the end of this file. Here are the definitions of the attributes: \n",
        "*  48 continuous real [0,100] attributes of type word_freq_WORD \n",
        "= percentage of words in the e-mail that match WORD, i.e. 100 * (number of times the WORD appears in the e-mail) / total number of words in e-mail. A \"word\" in this case is any string of alphanumeric characters bounded by non-alphanumeric characters or end-of-string. **Example**: word_freq_address: percentage of words in the e-mail that match ADDRESS.\n",
        "*  6 continuous real [0,100] attributes of type char_freq_CHAR] \n",
        "= percentage of characters in the e-mail that match CHAR, i.e. 100 * (number of CHAR occurences) / total characters in e-mail\n",
        "*  1 continuous real [1,...] attribute of type capital_run_length_average \n",
        "= average length of uninterrupted sequences of capital letters\n",
        "*  1 continuous integer [1,...] attribute of type capital_run_length_longest \n",
        "= length of longest uninterrupted sequence of capital letters\n",
        "*  1 continuous integer [1,...] attribute of type capital_run_length_total = sum of length of uninterrupted sequences of capital letters = total number of capital letters in the e-mail\n",
        "*  1 nominal {0,1} class attribute of type spam = denotes whether the e-mail was considered spam (1) or not (0), i.e. unsolicited commercial e-mail. \n",
        "\n",
        "\n",
        "---\n",
        "\n",
        "\n",
        "In order to compare the performance of selected algorithms, some common metrics including **accuracy, precision, recall, f1 measures** could be used.\n"
      ],
      "metadata": {
        "id": "MVzSk4l505E0"
      }
    },
    {
      "cell_type": "code",
      "source": [
        "# code"
      ],
      "metadata": {
        "id": "W_1v_ivR2f6D"
      },
      "execution_count": null,
      "outputs": []
    },
    {
      "cell_type": "markdown",
      "source": [
        "#Finally,\n",
        "Save a copy in your Github. Remember renaming the notebook."
      ],
      "metadata": {
        "id": "Ok7RGkea_b7n"
      }
    }
  ]
}